{
 "cells": [
  {
   "cell_type": "markdown",
   "metadata": {},
   "source": [
    "## Polymorphism"
   ]
  },
  {
   "cell_type": "code",
   "execution_count": 3,
   "metadata": {},
   "outputs": [
    {
     "name": "stdout",
     "output_type": "stream",
     "text": [
      "Woof\n",
      "Meow\n",
      "Woof\n"
     ]
    }
   ],
   "source": [
    "class Animal():\n",
    "  def speak(self):\n",
    "    print(\"Animal speaks\")\n",
    "\n",
    "class Dog(Animal):\n",
    "  def speak(self):\n",
    "    print(\"Woof\")\n",
    "\n",
    "class Cat(Animal):\n",
    "  def speak(self):\n",
    "    print(\"Meow\")\n",
    "\n",
    "dog = Dog()\n",
    "dog.speak()\n",
    "cat = Cat()\n",
    "cat.speak()\n",
    "\n",
    "\n",
    "# function that demonstrates polymorphism\n",
    "def animal_speak(animal):\n",
    "  return animal.speak()\n",
    "\n",
    "animal_speak(dog)\n",
    "\n",
    "\n"
   ]
  },
  {
   "cell_type": "code",
   "execution_count": 8,
   "metadata": {},
   "outputs": [
    {
     "name": "stdout",
     "output_type": "stream",
     "text": [
      "Area is 20\n",
      "Area is 28.259999999999998\n"
     ]
    }
   ],
   "source": [
    "class Shape():\n",
    "  def area(self):\n",
    "    print(\"Area of the shape\")\n",
    "\n",
    "class Rectangle(Shape):\n",
    "  def __init__(self,width,height):\n",
    "    self.width = width\n",
    "    self.height = height\n",
    "\n",
    "  def area(self):\n",
    "    return self.width * self.height\n",
    "  \n",
    "class Circle(Shape):\n",
    "  def __init__(self,radius):\n",
    "    self.radius = radius\n",
    "    \n",
    "  def area(self):\n",
    "    return 3.14 * self.radius * self.radius\n",
    "  \n",
    "def print_area(shape):\n",
    "  print(f\"Area is {shape.area()}\")\n",
    "\n",
    "rectangle = Rectangle(5,4)\n",
    "circle = Circle(3)\n",
    "\n",
    "print_area(rectangle)\n",
    "print_area(circle)\n",
    "  \n"
   ]
  },
  {
   "cell_type": "markdown",
   "metadata": {},
   "source": [
    "## Polymorphism with Abstract Base Class(ABC)\n"
   ]
  },
  {
   "cell_type": "markdown",
   "metadata": {},
   "source": [
    "ABC are used to define common methods for a group of related objects"
   ]
  },
  {
   "cell_type": "code",
   "execution_count": 9,
   "metadata": {},
   "outputs": [
    {
     "name": "stdout",
     "output_type": "stream",
     "text": [
      "Car engine started\n",
      "Motorcycle engine started\n"
     ]
    }
   ],
   "source": [
    "from abc import ABC,abstractmethod\n",
    "\n",
    "\n",
    "#Define abstract class \n",
    "class Vehicle(ABC):\n",
    "  @abstractmethod\n",
    "  def start_engine(self):\n",
    "    pass\n",
    "\n",
    "class Car(Vehicle):\n",
    "  def start_engine(self):\n",
    "    return \"Car engine started\"\n",
    "  \n",
    "class Motorcycle(Vehicle):\n",
    "  def start_engine(self):\n",
    "    return \"Motorcycle engine started\"\n",
    "  \n",
    "#function that demonnstrate the polymorphism\n",
    "\n",
    "def start_vehicle(vehicle):\n",
    "  print(vehicle.start_engine())\n",
    "\n",
    "car = Car()\n",
    "motorcycle = Motorcycle()\n",
    "\n",
    "start_vehicle(car)\n",
    "start_vehicle(motorcycle)\n",
    "  "
   ]
  },
  {
   "cell_type": "code",
   "execution_count": null,
   "metadata": {},
   "outputs": [],
   "source": []
  }
 ],
 "metadata": {
  "kernelspec": {
   "display_name": "Python 3",
   "language": "python",
   "name": "python3"
  },
  "language_info": {
   "codemirror_mode": {
    "name": "ipython",
    "version": 3
   },
   "file_extension": ".py",
   "mimetype": "text/x-python",
   "name": "python",
   "nbconvert_exporter": "python",
   "pygments_lexer": "ipython3",
   "version": "3.9.4"
  }
 },
 "nbformat": 4,
 "nbformat_minor": 2
}
