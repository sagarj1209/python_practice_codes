{
 "cells": [
  {
   "cell_type": "code",
   "execution_count": 1,
   "metadata": {},
   "outputs": [],
   "source": [
    "## Single Inheritance\n",
    "\n",
    "class Car:\n",
    "  def __init__(self,doors,enginetype):\n",
    "    self.doors = doors\n",
    "    self.enginetype = enginetype\n",
    "\n",
    "  def drive(self):\n",
    "    print(f\"You are driving {self.enginetype} car\")\n",
    "\n",
    "    "
   ]
  },
  {
   "cell_type": "code",
   "execution_count": 2,
   "metadata": {},
   "outputs": [
    {
     "name": "stdout",
     "output_type": "stream",
     "text": [
      "You are driving petrol car\n"
     ]
    }
   ],
   "source": [
    "car1 = Car(4,\"petrol\")\n",
    "car1.drive()"
   ]
  },
  {
   "cell_type": "code",
   "execution_count": 5,
   "metadata": {},
   "outputs": [],
   "source": [
    "class Tesla(Car):\n",
    "  def __init__(self,doors,enginetype,is_selfdriving):\n",
    "    super().__init__(doors,enginetype)\n",
    "    self.is_selfdriving = is_selfdriving\n",
    "\n",
    "  def selfdriving(self):\n",
    "    print(f\"Tesla supports selfdriving: {self.is_selfdriving} and engine type is {self.enginetype}\")"
   ]
  },
  {
   "cell_type": "code",
   "execution_count": 7,
   "metadata": {},
   "outputs": [
    {
     "name": "stdout",
     "output_type": "stream",
     "text": [
      "Tesla supports selfdriving: True and engine type is electric\n",
      "You are driving electric car\n"
     ]
    }
   ],
   "source": [
    "tesla1 = Tesla(5,\"electric\",True)\n",
    "tesla1.selfdriving()\n",
    "tesla1.drive()"
   ]
  },
  {
   "cell_type": "code",
   "execution_count": 8,
   "metadata": {},
   "outputs": [
    {
     "name": "stdout",
     "output_type": "stream",
     "text": [
      "Puppy says woof\n",
      "Owner: Sagar\n"
     ]
    }
   ],
   "source": [
    "## Multiple Inheritance\n",
    "#Base class1\n",
    "class Animal:\n",
    "  def __init__(self,name):\n",
    "    self.name = name\n",
    "\n",
    "    def speak(self):\n",
    "      print(\"Animal speak\")\n",
    "#Base class2\n",
    "class Pet:\n",
    "  def __init__(self,owner):\n",
    "    self.owner = owner\n",
    "\n",
    "#Derrived class\n",
    "class Dog(Animal ,Pet):\n",
    "  def __init__(self,name,owner):\n",
    "    Animal.__init__(self,name)\n",
    "    Pet.__init__(self,owner)\n",
    "\n",
    "  # def speak(self):\n",
    "  #   print(f\"{self.name} says woof\")\n",
    "\n",
    "#Create object\n",
    "dog = Dog(\"Puppy\", \"Sagar\")\n",
    "dog.speak()                         #Here speak() is from derrived class, as it has more priority\n",
    "print(f\"Owner: {dog.owner}\")\n"
   ]
  },
  {
   "cell_type": "code",
   "execution_count": null,
   "metadata": {},
   "outputs": [],
   "source": []
  }
 ],
 "metadata": {
  "kernelspec": {
   "display_name": "Python 3",
   "language": "python",
   "name": "python3"
  },
  "language_info": {
   "codemirror_mode": {
    "name": "ipython",
    "version": 3
   },
   "file_extension": ".py",
   "mimetype": "text/x-python",
   "name": "python",
   "nbconvert_exporter": "python",
   "pygments_lexer": "ipython3",
   "version": "3.9.4"
  }
 },
 "nbformat": 4,
 "nbformat_minor": 2
}
