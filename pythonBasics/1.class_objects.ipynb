{
 "cells": [
  {
   "cell_type": "code",
   "execution_count": 4,
   "metadata": {},
   "outputs": [
    {
     "name": "stdout",
     "output_type": "stream",
     "text": [
      "Sagar\n",
      "24\n",
      "Hello:Sagar\n"
     ]
    }
   ],
   "source": [
    "class Person:\n",
    "  def __init__(self,name,age):\n",
    "    self.name = name\n",
    "    self.age = age\n",
    "\n",
    "  def greet(self):\n",
    "    print(f\"Hello:{self.name}\")\n",
    "\n",
    "per1 = Person(\"Sagar\",24)\n",
    "print(per1.name)\n",
    "print(per1.age)\n",
    "per1.greet()\n"
   ]
  },
  {
   "cell_type": "code",
   "execution_count": 20,
   "metadata": {},
   "outputs": [
    {
     "name": "stdout",
     "output_type": "stream",
     "text": [
      "5000\n"
     ]
    }
   ],
   "source": [
    "# Bank Account \n",
    "\n",
    "class Bank:\n",
    "  def __init__(self,owner,balance=0):\n",
    "    self.owner = owner\n",
    "    self.balance = balance\n",
    "\n",
    "  def deposite(self,amount):\n",
    "    self.balance += amount\n",
    "    print(f\"{amount} Rs. deposited. New balance is {self.balance}\")\n",
    "\n",
    "  def withdraw(self,amount):\n",
    "    if amount>self.balance:\n",
    "      print(\"Insufficient balance\")\n",
    "    else:\n",
    "      self.balance -= amount\n",
    "      print(f\"{amount} Rs. withdraw. New balance is {self.balance}\")\n",
    "\n",
    "  def get_balance(self):\n",
    "    return self.balance\n",
    "\n",
    "account = Bank(\"Sagar\",5000)\n",
    "print(account.balance)"
   ]
  },
  {
   "cell_type": "code",
   "execution_count": 21,
   "metadata": {},
   "outputs": [
    {
     "name": "stdout",
     "output_type": "stream",
     "text": [
      "200 Rs. deposited. New balance is 5200\n"
     ]
    }
   ],
   "source": [
    "account.deposite(200)"
   ]
  },
  {
   "cell_type": "code",
   "execution_count": 22,
   "metadata": {},
   "outputs": [
    {
     "name": "stdout",
     "output_type": "stream",
     "text": [
      "300 Rs. withdraw. New balance is 4900\n"
     ]
    }
   ],
   "source": [
    "account.withdraw(300)"
   ]
  },
  {
   "cell_type": "code",
   "execution_count": 23,
   "metadata": {},
   "outputs": [
    {
     "data": {
      "text/plain": [
       "4900"
      ]
     },
     "execution_count": 23,
     "metadata": {},
     "output_type": "execute_result"
    }
   ],
   "source": [
    "account.get_balance()"
   ]
  },
  {
   "cell_type": "code",
   "execution_count": null,
   "metadata": {},
   "outputs": [],
   "source": []
  }
 ],
 "metadata": {
  "kernelspec": {
   "display_name": "Python 3",
   "language": "python",
   "name": "python3"
  },
  "language_info": {
   "codemirror_mode": {
    "name": "ipython",
    "version": 3
   },
   "file_extension": ".py",
   "mimetype": "text/x-python",
   "name": "python",
   "nbconvert_exporter": "python",
   "pygments_lexer": "ipython3",
   "version": "3.9.4"
  }
 },
 "nbformat": 4,
 "nbformat_minor": 2
}
